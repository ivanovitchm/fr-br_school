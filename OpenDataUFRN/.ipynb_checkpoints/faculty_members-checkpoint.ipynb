{
 "cells": [
  {
   "cell_type": "markdown",
   "metadata": {},
   "source": [
    "Importing the packages\n",
    "=="
   ]
  },
  {
   "cell_type": "code",
   "execution_count": 1,
   "metadata": {
    "collapsed": true
   },
   "outputs": [],
   "source": [
    "import pandas as pd\n",
    "import datetime\n",
    "import matplotlib.pyplot as plt\n",
    "import seaborn as sns\n"
   ]
  },
  {
   "cell_type": "markdown",
   "metadata": {},
   "source": [
    "Collect data\n",
    "=="
   ]
  },
  {
   "cell_type": "code",
   "execution_count": 2,
   "metadata": {
    "collapsed": true
   },
   "outputs": [],
   "source": [
    "url_faculty = 'http://bit.do/docentesufrn'\n",
    "\n",
    "# create a dataframe with data of faculty members\n",
    "df_faculty = pd.read_csv(url_faculty, sep=';')\n",
    "\n"
   ]
  },
  {
   "cell_type": "markdown",
   "metadata": {},
   "source": [
    "Preparação e Limpeza dos dados\n",
    "=="
   ]
  },
  {
   "cell_type": "code",
   "execution_count": 255,
   "metadata": {
    "scrolled": true
   },
   "outputs": [
    {
     "name": "stdout",
     "output_type": "stream",
     "text": [
      "(2349, 9)\n",
      "Index(['siape', 'nome', 'tipo_jornada_trabalho', 'vinculo', 'categoria',\n",
      "       'classe_funcional', 'lotacao', 'admissao', 'Unnamed: 8'],\n",
      "      dtype='object')\n"
     ]
    }
   ],
   "source": [
    "# tamanho dos dados\n",
    "print(df_docentes.shape)\n",
    "\n",
    "# colunas do dataset\n",
    "print(df_docentes.columns)\n"
   ]
  },
  {
   "cell_type": "code",
   "execution_count": 256,
   "metadata": {
    "scrolled": true
   },
   "outputs": [
    {
     "data": {
      "text/html": [
       "<div>\n",
       "<style>\n",
       "    .dataframe thead tr:only-child th {\n",
       "        text-align: right;\n",
       "    }\n",
       "\n",
       "    .dataframe thead th {\n",
       "        text-align: left;\n",
       "    }\n",
       "\n",
       "    .dataframe tbody tr th {\n",
       "        vertical-align: top;\n",
       "    }\n",
       "</style>\n",
       "<table border=\"1\" class=\"dataframe\">\n",
       "  <thead>\n",
       "    <tr style=\"text-align: right;\">\n",
       "      <th></th>\n",
       "      <th>siape</th>\n",
       "      <th>nome</th>\n",
       "      <th>tipo_jornada_trabalho</th>\n",
       "      <th>vinculo</th>\n",
       "      <th>categoria</th>\n",
       "      <th>classe_funcional</th>\n",
       "      <th>lotacao</th>\n",
       "      <th>admissao</th>\n",
       "      <th>Unnamed: 8</th>\n",
       "    </tr>\n",
       "  </thead>\n",
       "  <tbody>\n",
       "    <tr>\n",
       "      <th>0</th>\n",
       "      <td>709857</td>\n",
       "      <td>MARIA NUBIA PESSOA</td>\n",
       "      <td>Dedicação exclusiva</td>\n",
       "      <td>Ativo Permanente</td>\n",
       "      <td>PROFESSOR DE ENSINO BASICO DE EX-TERRITORIO</td>\n",
       "      <td>D                                             ...</td>\n",
       "      <td>NÚCLEO DE EDUCAÇÃO DA INFÂNCIA</td>\n",
       "      <td>2010-01-06 00:00:00</td>\n",
       "      <td>NaN</td>\n",
       "    </tr>\n",
       "    <tr>\n",
       "      <th>1</th>\n",
       "      <td>713506</td>\n",
       "      <td>RUTILENE SANTOS DE SOUSA</td>\n",
       "      <td>Dedicação exclusiva</td>\n",
       "      <td>Ativo Permanente</td>\n",
       "      <td>PROFESSOR DE ENSINO BASICO DE EX-TERRITORIO</td>\n",
       "      <td>D                                             ...</td>\n",
       "      <td>NÚCLEO DE EDUCAÇÃO DA INFÂNCIA</td>\n",
       "      <td>2009-03-12 00:00:00</td>\n",
       "      <td>NaN</td>\n",
       "    </tr>\n",
       "    <tr>\n",
       "      <th>2</th>\n",
       "      <td>709496</td>\n",
       "      <td>ADAUTO CHIAMENTI</td>\n",
       "      <td>Dedicação exclusiva</td>\n",
       "      <td>Ativo Permanente</td>\n",
       "      <td>PROFESSOR DE ENSINO BASICO TECNICO E TECNOLOGICO</td>\n",
       "      <td>DV                                            ...</td>\n",
       "      <td>ESCOLA AGRÍCOLA DE JUNDIAÍ</td>\n",
       "      <td>1988-03-01 00:00:00</td>\n",
       "      <td>NaN</td>\n",
       "    </tr>\n",
       "    <tr>\n",
       "      <th>3</th>\n",
       "      <td>1543339</td>\n",
       "      <td>ADELE GUIMARAES UBARANA SANTOS</td>\n",
       "      <td>Dedicação exclusiva</td>\n",
       "      <td>Ativo Permanente</td>\n",
       "      <td>PROFESSOR DE ENSINO BASICO TECNICO E TECNOLOGICO</td>\n",
       "      <td>DIII                                          ...</td>\n",
       "      <td>NÚCLEO DE EDUCAÇÃO DA INFÂNCIA</td>\n",
       "      <td>2006-07-24 00:00:00</td>\n",
       "      <td>NaN</td>\n",
       "    </tr>\n",
       "    <tr>\n",
       "      <th>4</th>\n",
       "      <td>1554468</td>\n",
       "      <td>AFRANIO CESAR DE ARAUJO</td>\n",
       "      <td>Dedicação exclusiva</td>\n",
       "      <td>Ativo Permanente</td>\n",
       "      <td>PROFESSOR DE ENSINO BASICO TECNICO E TECNOLOGICO</td>\n",
       "      <td>DIV                                           ...</td>\n",
       "      <td>ESCOLA AGRÍCOLA DE JUNDIAÍ</td>\n",
       "      <td>2008-09-12 00:00:00</td>\n",
       "      <td>NaN</td>\n",
       "    </tr>\n",
       "  </tbody>\n",
       "</table>\n",
       "</div>"
      ],
      "text/plain": [
       "     siape                            nome           tipo_jornada_trabalho  \\\n",
       "0   709857              MARIA NUBIA PESSOA  Dedicação exclusiva              \n",
       "1   713506        RUTILENE SANTOS DE SOUSA  Dedicação exclusiva              \n",
       "2   709496                ADAUTO CHIAMENTI  Dedicação exclusiva              \n",
       "3  1543339  ADELE GUIMARAES UBARANA SANTOS  Dedicação exclusiva              \n",
       "4  1554468         AFRANIO CESAR DE ARAUJO  Dedicação exclusiva              \n",
       "\n",
       "            vinculo                                         categoria  \\\n",
       "0  Ativo Permanente       PROFESSOR DE ENSINO BASICO DE EX-TERRITORIO   \n",
       "1  Ativo Permanente       PROFESSOR DE ENSINO BASICO DE EX-TERRITORIO   \n",
       "2  Ativo Permanente  PROFESSOR DE ENSINO BASICO TECNICO E TECNOLOGICO   \n",
       "3  Ativo Permanente  PROFESSOR DE ENSINO BASICO TECNICO E TECNOLOGICO   \n",
       "4  Ativo Permanente  PROFESSOR DE ENSINO BASICO TECNICO E TECNOLOGICO   \n",
       "\n",
       "                                    classe_funcional  \\\n",
       "0  D                                             ...   \n",
       "1  D                                             ...   \n",
       "2  DV                                            ...   \n",
       "3  DIII                                          ...   \n",
       "4  DIV                                           ...   \n",
       "\n",
       "                          lotacao             admissao  Unnamed: 8  \n",
       "0  NÚCLEO DE EDUCAÇÃO DA INFÂNCIA  2010-01-06 00:00:00         NaN  \n",
       "1  NÚCLEO DE EDUCAÇÃO DA INFÂNCIA  2009-03-12 00:00:00         NaN  \n",
       "2      ESCOLA AGRÍCOLA DE JUNDIAÍ  1988-03-01 00:00:00         NaN  \n",
       "3  NÚCLEO DE EDUCAÇÃO DA INFÂNCIA  2006-07-24 00:00:00         NaN  \n",
       "4      ESCOLA AGRÍCOLA DE JUNDIAÍ  2008-09-12 00:00:00         NaN  "
      ]
     },
     "execution_count": 256,
     "metadata": {},
     "output_type": "execute_result"
    }
   ],
   "source": [
    "# investigando os dados\n",
    "df_docentes.head()\n"
   ]
  },
  {
   "cell_type": "code",
   "execution_count": 240,
   "metadata": {},
   "outputs": [
    {
     "data": {
      "text/html": [
       "<div>\n",
       "<style>\n",
       "    .dataframe thead tr:only-child th {\n",
       "        text-align: right;\n",
       "    }\n",
       "\n",
       "    .dataframe thead th {\n",
       "        text-align: left;\n",
       "    }\n",
       "\n",
       "    .dataframe tbody tr th {\n",
       "        vertical-align: top;\n",
       "    }\n",
       "</style>\n",
       "<table border=\"1\" class=\"dataframe\">\n",
       "  <thead>\n",
       "    <tr style=\"text-align: right;\">\n",
       "      <th></th>\n",
       "      <th>siape</th>\n",
       "      <th>nome</th>\n",
       "      <th>tipo_jornada_trabalho</th>\n",
       "      <th>vinculo</th>\n",
       "      <th>categoria</th>\n",
       "      <th>classe_funcional</th>\n",
       "      <th>lotacao</th>\n",
       "      <th>admissao</th>\n",
       "    </tr>\n",
       "  </thead>\n",
       "  <tbody>\n",
       "    <tr>\n",
       "      <th>0</th>\n",
       "      <td>709857</td>\n",
       "      <td>MARIA NUBIA PESSOA</td>\n",
       "      <td>Dedicação exclusiva</td>\n",
       "      <td>Ativo Permanente</td>\n",
       "      <td>PROFESSOR DE ENSINO BASICO DE EX-TERRITORIO</td>\n",
       "      <td>D                                             ...</td>\n",
       "      <td>NÚCLEO DE EDUCAÇÃO DA INFÂNCIA</td>\n",
       "      <td>2010-01-06 00:00:00</td>\n",
       "    </tr>\n",
       "    <tr>\n",
       "      <th>1</th>\n",
       "      <td>713506</td>\n",
       "      <td>RUTILENE SANTOS DE SOUSA</td>\n",
       "      <td>Dedicação exclusiva</td>\n",
       "      <td>Ativo Permanente</td>\n",
       "      <td>PROFESSOR DE ENSINO BASICO DE EX-TERRITORIO</td>\n",
       "      <td>D                                             ...</td>\n",
       "      <td>NÚCLEO DE EDUCAÇÃO DA INFÂNCIA</td>\n",
       "      <td>2009-03-12 00:00:00</td>\n",
       "    </tr>\n",
       "    <tr>\n",
       "      <th>2</th>\n",
       "      <td>709496</td>\n",
       "      <td>ADAUTO CHIAMENTI</td>\n",
       "      <td>Dedicação exclusiva</td>\n",
       "      <td>Ativo Permanente</td>\n",
       "      <td>PROFESSOR DE ENSINO BASICO TECNICO E TECNOLOGICO</td>\n",
       "      <td>DV                                            ...</td>\n",
       "      <td>ESCOLA AGRÍCOLA DE JUNDIAÍ</td>\n",
       "      <td>1988-03-01 00:00:00</td>\n",
       "    </tr>\n",
       "    <tr>\n",
       "      <th>3</th>\n",
       "      <td>1543339</td>\n",
       "      <td>ADELE GUIMARAES UBARANA SANTOS</td>\n",
       "      <td>Dedicação exclusiva</td>\n",
       "      <td>Ativo Permanente</td>\n",
       "      <td>PROFESSOR DE ENSINO BASICO TECNICO E TECNOLOGICO</td>\n",
       "      <td>DIII                                          ...</td>\n",
       "      <td>NÚCLEO DE EDUCAÇÃO DA INFÂNCIA</td>\n",
       "      <td>2006-07-24 00:00:00</td>\n",
       "    </tr>\n",
       "    <tr>\n",
       "      <th>4</th>\n",
       "      <td>1554468</td>\n",
       "      <td>AFRANIO CESAR DE ARAUJO</td>\n",
       "      <td>Dedicação exclusiva</td>\n",
       "      <td>Ativo Permanente</td>\n",
       "      <td>PROFESSOR DE ENSINO BASICO TECNICO E TECNOLOGICO</td>\n",
       "      <td>DIV                                           ...</td>\n",
       "      <td>ESCOLA AGRÍCOLA DE JUNDIAÍ</td>\n",
       "      <td>2008-09-12 00:00:00</td>\n",
       "    </tr>\n",
       "  </tbody>\n",
       "</table>\n",
       "</div>"
      ],
      "text/plain": [
       "     siape                            nome           tipo_jornada_trabalho  \\\n",
       "0   709857              MARIA NUBIA PESSOA  Dedicação exclusiva              \n",
       "1   713506        RUTILENE SANTOS DE SOUSA  Dedicação exclusiva              \n",
       "2   709496                ADAUTO CHIAMENTI  Dedicação exclusiva              \n",
       "3  1543339  ADELE GUIMARAES UBARANA SANTOS  Dedicação exclusiva              \n",
       "4  1554468         AFRANIO CESAR DE ARAUJO  Dedicação exclusiva              \n",
       "\n",
       "            vinculo                                         categoria  \\\n",
       "0  Ativo Permanente       PROFESSOR DE ENSINO BASICO DE EX-TERRITORIO   \n",
       "1  Ativo Permanente       PROFESSOR DE ENSINO BASICO DE EX-TERRITORIO   \n",
       "2  Ativo Permanente  PROFESSOR DE ENSINO BASICO TECNICO E TECNOLOGICO   \n",
       "3  Ativo Permanente  PROFESSOR DE ENSINO BASICO TECNICO E TECNOLOGICO   \n",
       "4  Ativo Permanente  PROFESSOR DE ENSINO BASICO TECNICO E TECNOLOGICO   \n",
       "\n",
       "                                    classe_funcional  \\\n",
       "0  D                                             ...   \n",
       "1  D                                             ...   \n",
       "2  DV                                            ...   \n",
       "3  DIII                                          ...   \n",
       "4  DIV                                           ...   \n",
       "\n",
       "                          lotacao             admissao  \n",
       "0  NÚCLEO DE EDUCAÇÃO DA INFÂNCIA  2010-01-06 00:00:00  \n",
       "1  NÚCLEO DE EDUCAÇÃO DA INFÂNCIA  2009-03-12 00:00:00  \n",
       "2      ESCOLA AGRÍCOLA DE JUNDIAÍ  1988-03-01 00:00:00  \n",
       "3  NÚCLEO DE EDUCAÇÃO DA INFÂNCIA  2006-07-24 00:00:00  \n",
       "4      ESCOLA AGRÍCOLA DE JUNDIAÍ  2008-09-12 00:00:00  "
      ]
     },
     "execution_count": 240,
     "metadata": {},
     "output_type": "execute_result"
    }
   ],
   "source": [
    "# apagando colunas desnecessárias\n",
    "# axis (0 para linhas e 1 para colunas)\n",
    "df_docentes.drop('Unnamed: 8',axis = 1, inplace=True)\n",
    "\n",
    "# verificando se realmente a coluna foi deletada\n",
    "df_docentes.head()"
   ]
  },
  {
   "cell_type": "code",
   "execution_count": 257,
   "metadata": {
    "scrolled": true
   },
   "outputs": [
    {
     "name": "stdout",
     "output_type": "stream",
     "text": [
      "<class 'pandas.core.frame.DataFrame'>\n",
      "RangeIndex: 2349 entries, 0 to 2348\n",
      "Data columns (total 9 columns):\n",
      "siape                    2349 non-null int64\n",
      "nome                     2349 non-null object\n",
      "tipo_jornada_trabalho    2349 non-null object\n",
      "vinculo                  2349 non-null object\n",
      "categoria                2349 non-null object\n",
      "classe_funcional         2349 non-null object\n",
      "lotacao                  2349 non-null object\n",
      "admissao                 2349 non-null object\n",
      "Unnamed: 8               0 non-null float64\n",
      "dtypes: float64(1), int64(1), object(7)\n",
      "memory usage: 165.2+ KB\n"
     ]
    }
   ],
   "source": [
    "# informações sobre o dataset\n",
    "df_docentes.info()"
   ]
  },
  {
   "cell_type": "code",
   "execution_count": 258,
   "metadata": {
    "scrolled": true
   },
   "outputs": [
    {
     "name": "stdout",
     "output_type": "stream",
     "text": [
      "<class 'pandas.core.frame.DataFrame'>\n",
      "RangeIndex: 2349 entries, 0 to 2348\n",
      "Data columns (total 9 columns):\n",
      "siape                    2349 non-null int64\n",
      "nome                     2349 non-null object\n",
      "tipo_jornada_trabalho    2349 non-null object\n",
      "vinculo                  2349 non-null object\n",
      "categoria                2349 non-null object\n",
      "classe_funcional         2349 non-null object\n",
      "lotacao                  2349 non-null object\n",
      "admissao                 2349 non-null datetime64[ns]\n",
      "Unnamed: 8               0 non-null float64\n",
      "dtypes: datetime64[ns](1), float64(1), int64(1), object(6)\n",
      "memory usage: 165.2+ KB\n"
     ]
    }
   ],
   "source": [
    "# converter coluna 'admissao' para o tipo datetime\n",
    "df_docentes['admissao'] = pd.to_datetime(df_docentes['admissao'])\n",
    "df_docentes.info()"
   ]
  },
  {
   "cell_type": "code",
   "execution_count": 243,
   "metadata": {},
   "outputs": [
    {
     "data": {
      "text/html": [
       "<div>\n",
       "<style>\n",
       "    .dataframe thead tr:only-child th {\n",
       "        text-align: right;\n",
       "    }\n",
       "\n",
       "    .dataframe thead th {\n",
       "        text-align: left;\n",
       "    }\n",
       "\n",
       "    .dataframe tbody tr th {\n",
       "        vertical-align: top;\n",
       "    }\n",
       "</style>\n",
       "<table border=\"1\" class=\"dataframe\">\n",
       "  <thead>\n",
       "    <tr style=\"text-align: right;\">\n",
       "      <th></th>\n",
       "      <th>siape</th>\n",
       "      <th>nome</th>\n",
       "      <th>tipo_jornada_trabalho</th>\n",
       "      <th>vinculo</th>\n",
       "      <th>categoria</th>\n",
       "      <th>classe_funcional</th>\n",
       "      <th>lotacao</th>\n",
       "      <th>admissao</th>\n",
       "    </tr>\n",
       "  </thead>\n",
       "  <tbody>\n",
       "    <tr>\n",
       "      <th>0</th>\n",
       "      <td>709857</td>\n",
       "      <td>MARIA NUBIA PESSOA</td>\n",
       "      <td>Dedicação exclusiva</td>\n",
       "      <td>Ativo Permanente</td>\n",
       "      <td>PROFESSOR DE ENSINO BASICO DE EX-TERRITORIO</td>\n",
       "      <td>D                                             ...</td>\n",
       "      <td>NÚCLEO DE EDUCAÇÃO DA INFÂNCIA</td>\n",
       "      <td>2010-01-06</td>\n",
       "    </tr>\n",
       "    <tr>\n",
       "      <th>1</th>\n",
       "      <td>713506</td>\n",
       "      <td>RUTILENE SANTOS DE SOUSA</td>\n",
       "      <td>Dedicação exclusiva</td>\n",
       "      <td>Ativo Permanente</td>\n",
       "      <td>PROFESSOR DE ENSINO BASICO DE EX-TERRITORIO</td>\n",
       "      <td>D                                             ...</td>\n",
       "      <td>NÚCLEO DE EDUCAÇÃO DA INFÂNCIA</td>\n",
       "      <td>2009-03-12</td>\n",
       "    </tr>\n",
       "    <tr>\n",
       "      <th>2</th>\n",
       "      <td>709496</td>\n",
       "      <td>ADAUTO CHIAMENTI</td>\n",
       "      <td>Dedicação exclusiva</td>\n",
       "      <td>Ativo Permanente</td>\n",
       "      <td>PROFESSOR DE ENSINO BASICO TECNICO E TECNOLOGICO</td>\n",
       "      <td>DV                                            ...</td>\n",
       "      <td>ESCOLA AGRÍCOLA DE JUNDIAÍ</td>\n",
       "      <td>1988-03-01</td>\n",
       "    </tr>\n",
       "    <tr>\n",
       "      <th>3</th>\n",
       "      <td>1543339</td>\n",
       "      <td>ADELE GUIMARAES UBARANA SANTOS</td>\n",
       "      <td>Dedicação exclusiva</td>\n",
       "      <td>Ativo Permanente</td>\n",
       "      <td>PROFESSOR DE ENSINO BASICO TECNICO E TECNOLOGICO</td>\n",
       "      <td>DIII                                          ...</td>\n",
       "      <td>NÚCLEO DE EDUCAÇÃO DA INFÂNCIA</td>\n",
       "      <td>2006-07-24</td>\n",
       "    </tr>\n",
       "    <tr>\n",
       "      <th>4</th>\n",
       "      <td>1554468</td>\n",
       "      <td>AFRANIO CESAR DE ARAUJO</td>\n",
       "      <td>Dedicação exclusiva</td>\n",
       "      <td>Ativo Permanente</td>\n",
       "      <td>PROFESSOR DE ENSINO BASICO TECNICO E TECNOLOGICO</td>\n",
       "      <td>DIV                                           ...</td>\n",
       "      <td>ESCOLA AGRÍCOLA DE JUNDIAÍ</td>\n",
       "      <td>2008-09-12</td>\n",
       "    </tr>\n",
       "  </tbody>\n",
       "</table>\n",
       "</div>"
      ],
      "text/plain": [
       "     siape                            nome           tipo_jornada_trabalho  \\\n",
       "0   709857              MARIA NUBIA PESSOA  Dedicação exclusiva              \n",
       "1   713506        RUTILENE SANTOS DE SOUSA  Dedicação exclusiva              \n",
       "2   709496                ADAUTO CHIAMENTI  Dedicação exclusiva              \n",
       "3  1543339  ADELE GUIMARAES UBARANA SANTOS  Dedicação exclusiva              \n",
       "4  1554468         AFRANIO CESAR DE ARAUJO  Dedicação exclusiva              \n",
       "\n",
       "            vinculo                                         categoria  \\\n",
       "0  Ativo Permanente       PROFESSOR DE ENSINO BASICO DE EX-TERRITORIO   \n",
       "1  Ativo Permanente       PROFESSOR DE ENSINO BASICO DE EX-TERRITORIO   \n",
       "2  Ativo Permanente  PROFESSOR DE ENSINO BASICO TECNICO E TECNOLOGICO   \n",
       "3  Ativo Permanente  PROFESSOR DE ENSINO BASICO TECNICO E TECNOLOGICO   \n",
       "4  Ativo Permanente  PROFESSOR DE ENSINO BASICO TECNICO E TECNOLOGICO   \n",
       "\n",
       "                                    classe_funcional  \\\n",
       "0  D                                             ...   \n",
       "1  D                                             ...   \n",
       "2  DV                                            ...   \n",
       "3  DIII                                          ...   \n",
       "4  DIV                                           ...   \n",
       "\n",
       "                          lotacao   admissao  \n",
       "0  NÚCLEO DE EDUCAÇÃO DA INFÂNCIA 2010-01-06  \n",
       "1  NÚCLEO DE EDUCAÇÃO DA INFÂNCIA 2009-03-12  \n",
       "2      ESCOLA AGRÍCOLA DE JUNDIAÍ 1988-03-01  \n",
       "3  NÚCLEO DE EDUCAÇÃO DA INFÂNCIA 2006-07-24  \n",
       "4      ESCOLA AGRÍCOLA DE JUNDIAÍ 2008-09-12  "
      ]
     },
     "execution_count": 243,
     "metadata": {},
     "output_type": "execute_result"
    }
   ],
   "source": [
    "df_docentes.head()"
   ]
  },
  {
   "cell_type": "code",
   "execution_count": 259,
   "metadata": {
    "scrolled": true
   },
   "outputs": [
    {
     "data": {
      "text/html": [
       "<div>\n",
       "<style>\n",
       "    .dataframe thead tr:only-child th {\n",
       "        text-align: right;\n",
       "    }\n",
       "\n",
       "    .dataframe thead th {\n",
       "        text-align: left;\n",
       "    }\n",
       "\n",
       "    .dataframe tbody tr th {\n",
       "        vertical-align: top;\n",
       "    }\n",
       "</style>\n",
       "<table border=\"1\" class=\"dataframe\">\n",
       "  <thead>\n",
       "    <tr style=\"text-align: right;\">\n",
       "      <th></th>\n",
       "      <th>siape</th>\n",
       "      <th>nome</th>\n",
       "      <th>tipo_jornada_trabalho</th>\n",
       "      <th>vinculo</th>\n",
       "      <th>categoria</th>\n",
       "      <th>classe_funcional</th>\n",
       "      <th>lotacao</th>\n",
       "      <th>admissao</th>\n",
       "      <th>Unnamed: 8</th>\n",
       "    </tr>\n",
       "  </thead>\n",
       "  <tbody>\n",
       "    <tr>\n",
       "      <th>0</th>\n",
       "      <td>709857</td>\n",
       "      <td>MARIA NUBIA PESSOA</td>\n",
       "      <td>Dedicação exclusiva</td>\n",
       "      <td>Ativo Permanente</td>\n",
       "      <td>PROFESSOR DE ENSINO BASICO DE EX-TERRITORIO</td>\n",
       "      <td>D                                             ...</td>\n",
       "      <td>NÚCLEO DE EDUCAÇÃO DA INFÂNCIA</td>\n",
       "      <td>7</td>\n",
       "      <td>NaN</td>\n",
       "    </tr>\n",
       "    <tr>\n",
       "      <th>1</th>\n",
       "      <td>713506</td>\n",
       "      <td>RUTILENE SANTOS DE SOUSA</td>\n",
       "      <td>Dedicação exclusiva</td>\n",
       "      <td>Ativo Permanente</td>\n",
       "      <td>PROFESSOR DE ENSINO BASICO DE EX-TERRITORIO</td>\n",
       "      <td>D                                             ...</td>\n",
       "      <td>NÚCLEO DE EDUCAÇÃO DA INFÂNCIA</td>\n",
       "      <td>8</td>\n",
       "      <td>NaN</td>\n",
       "    </tr>\n",
       "    <tr>\n",
       "      <th>2</th>\n",
       "      <td>709496</td>\n",
       "      <td>ADAUTO CHIAMENTI</td>\n",
       "      <td>Dedicação exclusiva</td>\n",
       "      <td>Ativo Permanente</td>\n",
       "      <td>PROFESSOR DE ENSINO BASICO TECNICO E TECNOLOGICO</td>\n",
       "      <td>DV                                            ...</td>\n",
       "      <td>ESCOLA AGRÍCOLA DE JUNDIAÍ</td>\n",
       "      <td>29</td>\n",
       "      <td>NaN</td>\n",
       "    </tr>\n",
       "    <tr>\n",
       "      <th>3</th>\n",
       "      <td>1543339</td>\n",
       "      <td>ADELE GUIMARAES UBARANA SANTOS</td>\n",
       "      <td>Dedicação exclusiva</td>\n",
       "      <td>Ativo Permanente</td>\n",
       "      <td>PROFESSOR DE ENSINO BASICO TECNICO E TECNOLOGICO</td>\n",
       "      <td>DIII                                          ...</td>\n",
       "      <td>NÚCLEO DE EDUCAÇÃO DA INFÂNCIA</td>\n",
       "      <td>11</td>\n",
       "      <td>NaN</td>\n",
       "    </tr>\n",
       "    <tr>\n",
       "      <th>4</th>\n",
       "      <td>1554468</td>\n",
       "      <td>AFRANIO CESAR DE ARAUJO</td>\n",
       "      <td>Dedicação exclusiva</td>\n",
       "      <td>Ativo Permanente</td>\n",
       "      <td>PROFESSOR DE ENSINO BASICO TECNICO E TECNOLOGICO</td>\n",
       "      <td>DIV                                           ...</td>\n",
       "      <td>ESCOLA AGRÍCOLA DE JUNDIAÍ</td>\n",
       "      <td>9</td>\n",
       "      <td>NaN</td>\n",
       "    </tr>\n",
       "  </tbody>\n",
       "</table>\n",
       "</div>"
      ],
      "text/plain": [
       "     siape                            nome           tipo_jornada_trabalho  \\\n",
       "0   709857              MARIA NUBIA PESSOA  Dedicação exclusiva              \n",
       "1   713506        RUTILENE SANTOS DE SOUSA  Dedicação exclusiva              \n",
       "2   709496                ADAUTO CHIAMENTI  Dedicação exclusiva              \n",
       "3  1543339  ADELE GUIMARAES UBARANA SANTOS  Dedicação exclusiva              \n",
       "4  1554468         AFRANIO CESAR DE ARAUJO  Dedicação exclusiva              \n",
       "\n",
       "            vinculo                                         categoria  \\\n",
       "0  Ativo Permanente       PROFESSOR DE ENSINO BASICO DE EX-TERRITORIO   \n",
       "1  Ativo Permanente       PROFESSOR DE ENSINO BASICO DE EX-TERRITORIO   \n",
       "2  Ativo Permanente  PROFESSOR DE ENSINO BASICO TECNICO E TECNOLOGICO   \n",
       "3  Ativo Permanente  PROFESSOR DE ENSINO BASICO TECNICO E TECNOLOGICO   \n",
       "4  Ativo Permanente  PROFESSOR DE ENSINO BASICO TECNICO E TECNOLOGICO   \n",
       "\n",
       "                                    classe_funcional  \\\n",
       "0  D                                             ...   \n",
       "1  D                                             ...   \n",
       "2  DV                                            ...   \n",
       "3  DIII                                          ...   \n",
       "4  DIV                                           ...   \n",
       "\n",
       "                          lotacao  admissao  Unnamed: 8  \n",
       "0  NÚCLEO DE EDUCAÇÃO DA INFÂNCIA         7         NaN  \n",
       "1  NÚCLEO DE EDUCAÇÃO DA INFÂNCIA         8         NaN  \n",
       "2      ESCOLA AGRÍCOLA DE JUNDIAÍ        29         NaN  \n",
       "3  NÚCLEO DE EDUCAÇÃO DA INFÂNCIA        11         NaN  \n",
       "4      ESCOLA AGRÍCOLA DE JUNDIAÍ         9         NaN  "
      ]
     },
     "execution_count": 259,
     "metadata": {},
     "output_type": "execute_result"
    }
   ],
   "source": [
    "# referência temporal para o dia atual\n",
    "today = datetime.datetime.now()\n",
    "\n",
    "# calcula a quantidade em anos que o docente está na UFRN\n",
    "df_docentes.admissao = today.year - df_docentes.admissao.dt.year\n",
    "\n",
    "# verificar o novo dataset\n",
    "df_docentes.head()"
   ]
  },
  {
   "cell_type": "code",
   "execution_count": 260,
   "metadata": {
    "collapsed": true
   },
   "outputs": [],
   "source": [
    "# retirar os espaços em branco\n",
    "df_docentes.classe_funcional = df_docentes.classe_funcional.str.strip()"
   ]
  },
  {
   "cell_type": "markdown",
   "metadata": {},
   "source": [
    "Análise Exploratória dos Dados\n",
    "=="
   ]
  },
  {
   "cell_type": "code",
   "execution_count": 261,
   "metadata": {
    "scrolled": false
   },
   "outputs": [
    {
     "data": {
      "image/png": "[encoded data removed]",
      "text/plain": [
       "<matplotlib.figure.Figure at 0x105fdb208>"
      ]
     },
     "metadata": {},
     "output_type": "display_data"
    }
   ],
   "source": [
    "# criando uma figura\n",
    "fig, ax = plt.subplots(figsize=(10,5))\n",
    "\n",
    "# carregar a configuração padrão de cores do Seaborn\n",
    "sns.set(font_scale=1.5)\n",
    "\n",
    "# imprimir o histograma do tempo de serviço dos professores da UFRN\n",
    "sns.distplot(df_docentes.admissao)\n",
    "\n",
    "# nomes dos eixos\n",
    "ax.set(xlabel='Tempo de serviço', ylabel='Probabilidade')\n",
    "\n",
    "plt.title('Histograma do tempo de serviço dos docentes')\n",
    "plt.show()"
   ]
  },
  {
   "cell_type": "code",
   "execution_count": 262,
   "metadata": {},
   "outputs": [
    {
     "data": {
      "text/plain": [
       "array(['PROFESSOR DE ENSINO BASICO DE EX-TERRITORIO',\n",
       "       'PROFESSOR DE ENSINO BASICO TECNICO E TECNOLOGICO',\n",
       "       'PROFESSOR DO MAGISTERIO SUPERIOR'], dtype=object)"
      ]
     },
     "execution_count": 262,
     "metadata": {},
     "output_type": "execute_result"
    }
   ],
   "source": [
    "# categorias de professores\n",
    "df_docentes.categoria.unique()"
   ]
  },
  {
   "cell_type": "code",
   "execution_count": 263,
   "metadata": {},
   "outputs": [
    {
     "data": {
      "text/plain": [
       "array(['Dedicação exclusiva           ', '20 horas semanais             ',\n",
       "       '40 horas semanais             '], dtype=object)"
      ]
     },
     "execution_count": 263,
     "metadata": {},
     "output_type": "execute_result"
    }
   ],
   "source": [
    "# categorias de jornadas de trabalho\n",
    "df_docentes.tipo_jornada_trabalho.unique()"
   ]
  },
  {
   "cell_type": "code",
   "execution_count": 264,
   "metadata": {},
   "outputs": [
    {
     "data": {
      "text/plain": [
       "PROFESSOR DO MAGISTERIO SUPERIOR                    2144\n",
       "PROFESSOR DE ENSINO BASICO TECNICO E TECNOLOGICO     203\n",
       "PROFESSOR DE ENSINO BASICO DE EX-TERRITORIO            2\n",
       "Name: categoria, dtype: int64"
      ]
     },
     "execution_count": 264,
     "metadata": {},
     "output_type": "execute_result"
    }
   ],
   "source": [
    "# contagem das diferentes categorias\n",
    "df_docentes.categoria.value_counts()"
   ]
  },
  {
   "cell_type": "code",
   "execution_count": 265,
   "metadata": {
    "collapsed": true
   },
   "outputs": [],
   "source": [
    "# apagando do dataset ex-territorio\n",
    "df_docentes = df_docentes[df_docentes.categoria != 'PROFESSOR DE ENSINO BASICO DE EX-TERRITORIO']"
   ]
  },
  {
   "cell_type": "code",
   "execution_count": 251,
   "metadata": {
    "scrolled": false
   },
   "outputs": [
    {
     "data": {
      "image/png": "[encoded data removed]",
      "text/plain": [
       "<matplotlib.figure.Figure at 0x106c92f98>"
      ]
     },
     "metadata": {},
     "output_type": "display_data"
    }
   ],
   "source": [
    "# colunas = tipo de jornadas e linhas = MS ou EBTT\n",
    "g = sns.FacetGrid(df_docentes, col='tipo_jornada_trabalho', \n",
    "                  row='categoria',size=6)\n",
    "\n",
    "# fazer histogramas em função do tempo de serviço\n",
    "g.map(plt.hist, \"admissao\")\n",
    "\n",
    "# capturar os eixos\n",
    "axes = g.axes.flatten()\n",
    "axes[0].set_title(\"EBTT | DE\")\n",
    "axes[1].set_title(\"EBTT | 20h\")\n",
    "axes[2].set_title(\"EBTT | 40h\")\n",
    "axes[3].set_title(\"MS | DE\")\n",
    "axes[4].set_title(\"MS | 20h\")\n",
    "axes[5].set_title(\"MS | 40h\")\n",
    "\n",
    "# adaptando o tamanho das figuras\n",
    "g.fig.tight_layout()\n",
    "\n",
    "# nomes dos labels\n",
    "g.axes[1,0].set_xlabel('Tempo de serviço')\n",
    "g.axes[1,1].set_xlabel('Tempo de serviço')\n",
    "g.axes[1,2].set_xlabel('Tempo de serviço')\n",
    "g.axes[0,0].set_ylabel('Frequência de ocorrência')\n",
    "g.axes[1,0].set_ylabel('Frequência de ocorrência')\n",
    "\n",
    "# Plot the graph\n",
    "plt.show()"
   ]
  },
  {
   "cell_type": "code",
   "execution_count": 266,
   "metadata": {
    "scrolled": true
   },
   "outputs": [
    {
     "data": {
      "text/plain": [
       "Classe C - Adjunto         876\n",
       "Classe D - Associado       569\n",
       "Classe A - Adjunto A       271\n",
       "Classe E - Titular         191\n",
       "Classe B - Assistente       98\n",
       "DIV                         87\n",
       "Classe A - Auxiliar         75\n",
       "DI                          49\n",
       "DIII                        46\n",
       "Classe A - Assistente A     40\n",
       "Auxiliar                    24\n",
       "DV                          15\n",
       "DII                          6\n",
       "Name: classe_funcional, dtype: int64"
      ]
     },
     "execution_count": 266,
     "metadata": {},
     "output_type": "execute_result"
    }
   ],
   "source": [
    "# categoria pelo nível da carreira\n",
    "df_docentes.classe_funcional.value_counts()"
   ]
  },
  {
   "cell_type": "code",
   "execution_count": 253,
   "metadata": {},
   "outputs": [
    {
     "data": {
      "image/png": "[encoded data removed]",
      "text/plain": [
       "<matplotlib.figure.Figure at 0x1181855c0>"
      ]
     },
     "metadata": {},
     "output_type": "display_data"
    }
   ],
   "source": [
    "# imprimir o histograma pela classe funcional\n",
    "g = sns.countplot(df_docentes.classe_funcional)\n",
    "\n",
    "# rotacionar os labels\n",
    "g.set_xticklabels(g.get_xticklabels(),rotation=90)\n",
    "\n",
    "plt.xlabel('Classe Funcional')\n",
    "plt.ylabel('Frequência de ocorrência')\n",
    "plt.show()"
   ]
  }
 ],
 "metadata": {
  "kernelspec": {
   "display_name": "Python 3",
   "language": "python",
   "name": "python3"
  },
  "language_info": {
   "codemirror_mode": {
    "name": "ipython",
    "version": 3
   },
   "file_extension": ".py",
   "mimetype": "text/x-python",
   "name": "python",
   "nbconvert_exporter": "python",
   "pygments_lexer": "ipython3",
   "version": "3.6.3"
  }
 },
 "nbformat": 4,
 "nbformat_minor": 2
}
